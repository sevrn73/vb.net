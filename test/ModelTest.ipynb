{
 "cells": [
  {
   "cell_type": "code",
   "execution_count": 1,
   "metadata": {},
   "outputs": [
    {
     "name": "stdout",
     "output_type": "stream",
     "text": [
      "Help on ModuleObject:\n",
      "\n",
      "net\n",
      "    Namespace containing types from the following assemblies:\n",
      "    \n",
      "    - net, Version=1.0.0.0, Culture=neutral, PublicKeyToken=null\n",
      "\n"
     ]
    }
   ],
   "source": [
    "import sys\n",
    "import clr\n",
    "import DLLs\n",
    "from ctypes import *\n",
    "import os\n",
    "path = os.path.abspath('..')\n",
    "cur_path = path + '\\\\net\\\\net\\\\bin\\\\Debug'\n",
    "\n",
    "sys.path.append(f'{cur_path}')\n",
    "clr.AddReference('net')\n",
    "\n",
    "import net\n",
    "help(net)"
   ]
  },
  {
   "cell_type": "code",
   "execution_count": 10,
   "metadata": {},
   "outputs": [],
   "source": [
    "import math as m\n",
    "h = 10\n",
    "k = 5 * 0.000000000000001\n",
    "phi = 0.2\n",
    "mu = 1.5 * 0.001\n",
    "Ct = 0.00005 * 0.000009869\n",
    "B = 1\n",
    "P0 = 250 * 101325\n",
    "rw = 0.1\n",
    "re = 300\n",
    "S = 0\n",
    "q = 10/86400\n",
    "cs= 0.1/101325\n",
    "tochn = 12\n",
    "reff = m.exp(-S)*rw\n",
    "\n",
    "time, P = [], []\n",
    "for i in range(0, 80):\n",
    "    t = (0.1+4*i)\n",
    "    time.append(t)\n",
    "\n",
    "    p = (P0 + net.One_reservoir.StableRate_PtWBS12(tochn, t*3600, k, phi, mu, Ct, B, reff,\n",
    "                                re, h, P0, q, cs, 2))/101325\n",
    "    P.append(p)"
   ]
  },
  {
   "cell_type": "code",
   "execution_count": 11,
   "metadata": {},
   "outputs": [
    {
     "data": {
      "image/png": "[encoded data removed]",
      "text/plain": [
       "<Figure size 432x288 with 1 Axes>"
      ]
     },
     "metadata": {
      "needs_background": "light"
     },
     "output_type": "display_data"
    }
   ],
   "source": [
    "from matplotlib import pylab as plt\n",
    "import matplotlib as mpl\n",
    "mpl.rcParams['font.family'] = 'fantasy'\n",
    "mpl.rcParams['font.fantasy'] = 'Times New Roman'\n",
    "plt.grid(True)\n",
    "plt.title('Дебит нефти во времени', color='black', family='fantasy')\n",
    "plt.ylabel('Дебит', color='black', family='fantasy')\n",
    "plt.xlabel('Время', color='black', family='fantasy')\n",
    "plt.plot(time, P, linewidth=3)\n",
    "plt.show()"
   ]
  },
  {
   "cell_type": "code",
   "execution_count": 12,
   "metadata": {},
   "outputs": [
    {
     "data": {
      "text/plain": [
       "[249.58818571824307,\n",
       " 237.19672222179804,\n",
       " 229.65134943610323,\n",
       " 224.77830530019327,\n",
       " 221.49957113951658,\n",
       " 219.2115400803098,\n",
       " 217.55892686024555,\n",
       " 216.32552158174062,\n",
       " 215.37612442253786,\n",
       " 214.62410487320167,\n",
       " 214.0126708078561,\n",
       " 213.50377137111434,\n",
       " 213.07137377893545,\n",
       " 212.69730539935094,\n",
       " 212.36863209869136,\n",
       " 212.07597432273715,\n",
       " 211.81240635568585,\n",
       " 211.57272434275092,\n",
       " 211.35295196322375,\n",
       " 211.15000114721397,\n",
       " 210.96143600866702,\n",
       " 210.78530628978956,\n",
       " 210.62002820575677,\n",
       " 210.46429824125082,\n",
       " 210.31703003223342,\n",
       " 210.1773075337743,\n",
       " 210.04435001338467,\n",
       " 209.9174854788885,\n",
       " 209.7961303680819,\n",
       " 209.67977393032913,\n",
       " 209.5679658532019,\n",
       " 209.46030665128694,\n",
       " 209.35643998303001,\n",
       " 209.25604640664216,\n",
       " 209.15883835588065,\n",
       " 209.06455597744556,\n",
       " 208.97296372141392,\n",
       " 208.8838474904476,\n",
       " 208.7970121729371,\n",
       " 208.7122795892956,\n",
       " 208.62948680261198,\n",
       " 208.54848449104662,\n",
       " 208.46913564264582,\n",
       " 208.39131442198246,\n",
       " 208.3149051212788,\n",
       " 208.2398012743201,\n",
       " 208.16590470757097,\n",
       " 208.0931251027041,\n",
       " 208.02137900509894,\n",
       " 207.95058953590873,\n",
       " 207.8806855918118,\n",
       " 207.8116015727403,\n",
       " 207.7432768962191,\n",
       " 207.6756554818877,\n",
       " 207.60868554744727,\n",
       " 207.54231914061899,\n",
       " 207.47651197469708,\n",
       " 207.41122300448018,\n",
       " 207.34641428335902,\n",
       " 207.2820506481262,\n",
       " 207.21809957756986,\n",
       " 207.15453094776078,\n",
       " 207.0913168292042,\n",
       " 207.02843137028128,\n",
       " 206.96585063536196,\n",
       " 206.90355240933607,\n",
       " 206.84151612081087,\n",
       " 206.77972269980137,\n",
       " 206.71815450439152,\n",
       " 206.65679513550558,\n",
       " 206.59562937862867,\n",
       " 206.5346431855852,\n",
       " 206.47382346145025,\n",
       " 206.4131581302081,\n",
       " 206.3526359258803,\n",
       " 206.2922463944833,\n",
       " 206.23197991993055,\n",
       " 206.171827492421,\n",
       " 206.111780831925,\n",
       " 206.05183219783547]"
      ]
     },
     "execution_count": 12,
     "metadata": {},
     "output_type": "execute_result"
    }
   ],
   "source": [
    "P"
   ]
  },
  {
   "cell_type": "code",
   "execution_count": null,
   "metadata": {},
   "outputs": [],
   "source": []
  }
 ],
 "metadata": {
  "kernelspec": {
   "display_name": "Python 3",
   "language": "python",
   "name": "python3"
  },
  "language_info": {
   "codemirror_mode": {
    "name": "ipython",
    "version": 3
   },
   "file_extension": ".py",
   "mimetype": "text/x-python",
   "name": "python",
   "nbconvert_exporter": "python",
   "pygments_lexer": "ipython3",
   "version": "3.8.3"
  }
 },
 "nbformat": 4,
 "nbformat_minor": 4
}
