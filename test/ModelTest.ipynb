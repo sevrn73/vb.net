{
 "cells": [
  {
   "cell_type": "code",
   "execution_count": 1,
   "metadata": {},
   "outputs": [
    {
     "name": "stdout",
     "output_type": "stream",
     "text": [
      "Help on ModuleObject:\n",
      "\n",
      "net\n",
      "    Namespace containing types from the following assemblies:\n",
      "    \n",
      "    - net, Version=1.0.0.0, Culture=neutral, PublicKeyToken=null\n",
      "\n"
     ]
    }
   ],
   "source": [
    "import sys\n",
    "import clr\n",
    "import DLLs\n",
    "from ctypes import *\n",
    "import os\n",
    "path = os.path.abspath('..')\n",
    "cur_path = path + '\\\\net\\\\net\\\\bin\\\\Debug'\n",
    "\n",
    "sys.path.append(f'{cur_path}')\n",
    "clr.AddReference('net')\n",
    "\n",
    "import net\n",
    "help(net)"
   ]
  },
  {
   "cell_type": "code",
   "execution_count": 5,
   "metadata": {},
   "outputs": [
    {
     "data": {
      "text/plain": [
       "[62.327878065309505,\n",
       " 58.90602600065904,\n",
       " 57.07070217317778,\n",
       " 55.83545760432571,\n",
       " 54.91307189378176,\n",
       " 54.18146283518581,\n",
       " 53.577742022605435,\n",
       " 53.06541041233004,\n",
       " 52.62147392437555,\n",
       " 52.23054587760316,\n",
       " 51.88184078699578,\n",
       " 51.567514129544634,\n",
       " 51.28168736356429,\n",
       " 51.01984607110808,\n",
       " 50.77845297648764,\n",
       " 50.55468961523957,\n",
       " 50.34627806418257,\n",
       " 50.15135540870688,\n",
       " 49.9683823639657]"
      ]
     },
     "execution_count": 5,
     "metadata": {},
     "output_type": "execute_result"
    }
   ],
   "source": [
    "import math as m\n",
    "h = 10\n",
    "k = 5 * 0.000000000000001\n",
    "phi = 0.2\n",
    "mu = 1.5 * 0.001\n",
    "Ct = 0.0003 * 0.000009869\n",
    "B = 1\n",
    "P0 = 250 * 101325\n",
    "rw = 0.1\n",
    "re = 300\n",
    "S = 0\n",
    "#t = 500 * 3600\n",
    "pwf1 = 50 * 101325\n",
    "tochn = 12\n",
    "reff = m.exp(-S)*rw\n",
    "\n",
    "time, Q = [], []\n",
    "for i in range(1, 20):\n",
    "    time.append(86400*i)\n",
    "    #q = net.One_reservoir.StableRate_Qt11(tochn, 86400*i, k, phi, mu, Ct, B, reff,\n",
    "    #                            re, h, pwf1, P0, 2)*86400\n",
    "    q = net.One_reservoir.StableRate_Qt11(tochn, 86400*i, k, phi, mu, Ct, B, reff,\n",
    "                                re, h, pwf1, P0, 2)*86400\n",
    "    Q.append(q)\n",
    "Q"
   ]
  },
  {
   "cell_type": "code",
   "execution_count": 10,
   "metadata": {},
   "outputs": [
    {
     "data": {
      "image/png": "[encoded data removed]",
      "text/plain": [
       "<Figure size 432x288 with 1 Axes>"
      ]
     },
     "metadata": {
      "needs_background": "light"
     },
     "output_type": "display_data"
    }
   ],
   "source": [
    "from matplotlib import pylab as plt\n",
    "import matplotlib as mpl\n",
    "mpl.rcParams['font.family'] = 'fantasy'\n",
    "mpl.rcParams['font.fantasy'] = 'Times New Roman'\n",
    "plt.grid(True)\n",
    "plt.title('Дебит нефти во времени', color='black', family='fantasy')\n",
    "plt.ylabel('Дебит', color='black', family='fantasy')\n",
    "plt.xlabel('Время', color='black', family='fantasy')\n",
    "plt.plot(time, Q, linewidth=3)\n",
    "plt.show()"
   ]
  },
  {
   "cell_type": "code",
   "execution_count": 3,
   "metadata": {},
   "outputs": [
    {
     "data": {
      "text/plain": [
       "[nan,\n",
       " nan,\n",
       " nan,\n",
       " nan,\n",
       " nan,\n",
       " nan,\n",
       " nan,\n",
       " nan,\n",
       " nan,\n",
       " nan,\n",
       " nan,\n",
       " nan,\n",
       " nan,\n",
       " nan,\n",
       " nan,\n",
       " nan,\n",
       " nan,\n",
       " nan,\n",
       " nan]"
      ]
     },
     "execution_count": 3,
     "metadata": {},
     "output_type": "execute_result"
    }
   ],
   "source": []
  },
  {
   "cell_type": "code",
   "execution_count": null,
   "metadata": {},
   "outputs": [],
   "source": []
  }
 ],
 "metadata": {
  "kernelspec": {
   "display_name": "Python 3",
   "language": "python",
   "name": "python3"
  },
  "language_info": {
   "codemirror_mode": {
    "name": "ipython",
    "version": 3
   },
   "file_extension": ".py",
   "mimetype": "text/x-python",
   "name": "python",
   "nbconvert_exporter": "python",
   "pygments_lexer": "ipython3",
   "version": "3.8.3"
  }
 },
 "nbformat": 4,
 "nbformat_minor": 4
}
