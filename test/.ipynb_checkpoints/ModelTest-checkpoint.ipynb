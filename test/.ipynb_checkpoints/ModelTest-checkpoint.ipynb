{
 "cells": [
  {
   "cell_type": "code",
   "execution_count": 1,
   "metadata": {},
   "outputs": [
    {
     "name": "stdout",
     "output_type": "stream",
     "text": [
      "Help on ModuleObject:\n",
      "\n",
      "net\n",
      "    Namespace containing types from the following assemblies:\n",
      "    \n",
      "    - net, Version=1.0.0.0, Culture=neutral, PublicKeyToken=null\n",
      "\n"
     ]
    }
   ],
   "source": [
    "import sys\n",
    "import clr\n",
    "import DLLs\n",
    "from ctypes import *\n",
    "import os\n",
    "path = os.path.abspath('..')\n",
    "cur_path = path + '\\\\net\\\\net\\\\bin\\\\Debug'\n",
    "\n",
    "sys.path.append(f'{cur_path}')\n",
    "clr.AddReference('net')\n",
    "\n",
    "import net\n",
    "help(net)"
   ]
  },
  {
   "cell_type": "code",
   "execution_count": 6,
   "metadata": {},
   "outputs": [],
   "source": [
    "import math as m\n",
    "h = 10\n",
    "k = 5 * 0.000000000000001\n",
    "phi = 0.2\n",
    "mu = 1.5 * 0.001\n",
    "Ct = 0.00005 * 0.000009869\n",
    "B = 1\n",
    "P0 = 250 * 101325\n",
    "rw = 0.1\n",
    "re = 300\n",
    "S = 0\n",
    "q = 10/86400\n",
    "cs= 0.1/101325\n",
    "tochn = 12\n",
    "reff = m.exp(-S)*rw\n",
    "\n",
    "time, P = [], []\n",
    "for i in range(0, 80):\n",
    "    t = (0.1+4*i)\n",
    "    time.append(t)\n",
    "\n",
    "    p = (P0 + net.One_reservoir.StableRate_PtWBS12(tochn, t*3600, k, phi, mu, Ct, B, reff,\n",
    "                                re, h, P0, q, cs, 2))/101325\n",
    "    P.append(q)"
   ]
  },
  {
   "cell_type": "code",
   "execution_count": 3,
   "metadata": {},
   "outputs": [
    {
     "data": {
      "image/png": "[encoded data removed]",
      "text/plain": [
       "<Figure size 432x288 with 1 Axes>"
      ]
     },
     "metadata": {
      "needs_background": "light"
     },
     "output_type": "display_data"
    }
   ],
   "source": [
    "from matplotlib import pylab as plt\n",
    "import matplotlib as mpl\n",
    "mpl.rcParams['font.family'] = 'fantasy'\n",
    "mpl.rcParams['font.fantasy'] = 'Times New Roman'\n",
    "plt.grid(True)\n",
    "plt.title('Дебит нефти во времени', color='black', family='fantasy')\n",
    "plt.ylabel('Дебит', color='black', family='fantasy')\n",
    "plt.xlabel('Время', color='black', family='fantasy')\n",
    "plt.plot(time, P, linewidth=3)\n",
    "plt.show()"
   ]
  },
  {
   "cell_type": "code",
   "execution_count": 3,
   "metadata": {},
   "outputs": [
    {
     "data": {
      "text/plain": [
       "[nan,\n",
       " nan,\n",
       " nan,\n",
       " nan,\n",
       " nan,\n",
       " nan,\n",
       " nan,\n",
       " nan,\n",
       " nan,\n",
       " nan,\n",
       " nan,\n",
       " nan,\n",
       " nan,\n",
       " nan,\n",
       " nan,\n",
       " nan,\n",
       " nan,\n",
       " nan,\n",
       " nan]"
      ]
     },
     "execution_count": 3,
     "metadata": {},
     "output_type": "execute_result"
    }
   ],
   "source": []
  },
  {
   "cell_type": "code",
   "execution_count": null,
   "metadata": {},
   "outputs": [],
   "source": []
  }
 ],
 "metadata": {
  "kernelspec": {
   "display_name": "Python 3",
   "language": "python",
   "name": "python3"
  },
  "language_info": {
   "codemirror_mode": {
    "name": "ipython",
    "version": 3
   },
   "file_extension": ".py",
   "mimetype": "text/x-python",
   "name": "python",
   "nbconvert_exporter": "python",
   "pygments_lexer": "ipython3",
   "version": "3.8.3"
  }
 },
 "nbformat": 4,
 "nbformat_minor": 4
}
